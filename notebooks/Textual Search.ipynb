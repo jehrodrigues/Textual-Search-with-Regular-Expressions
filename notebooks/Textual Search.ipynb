{
 "cells": [
  {
   "cell_type": "markdown",
   "id": "3e4ac194-ab29-4477-ba73-13dfd5aa8bc5",
   "metadata": {},
   "source": [
    "# Textual Search\n",
    "\n",
    "This notebook aims to provide an interactive way of performing the textual search (real time).\n",
    "\n",
    "* Author: Jessica Silva\n",
    "* Date: 27-04-2022"
   ]
  },
  {
   "cell_type": "code",
   "execution_count": 11,
   "id": "9759a507-9a8a-433e-b266-c4df27547cb5",
   "metadata": {},
   "outputs": [],
   "source": [
    "import pandas as pd\n",
    "from pathlib import Path\n",
    "from src.data.read_dataset import DatasetReader\n",
    "\n",
    "pd.set_option('display.max_colwidth', None)"
   ]
  },
  {
   "cell_type": "markdown",
   "id": "9794cc63-8b22-4a7e-b642-6693a99a5056",
   "metadata": {},
   "source": [
    "## 1. Data\n",
    "\n",
    "The dataset is a file (e.g. source.txt) containing the **source text** and the **search term**. The file must be inside the **./data/** directory and the extension must be .txt:\n",
    "* **Source text**: lines of strings, with each line containing three words embedded in symbols, numbers and spaces.\n",
    "* **Search term**: always on the last line of the file, and contains a single word."
   ]
  },
  {
   "cell_type": "code",
   "execution_count": 12,
   "id": "9b8156b2",
   "metadata": {},
   "outputs": [],
   "source": [
    "# Defining the source file\n",
    "SEARCH_FILE = \"source.txt\""
   ]
  },
  {
   "cell_type": "code",
   "execution_count": 13,
   "id": "a5a44d7d-1d6c-4f90-9b45-64fa277d55ea",
   "metadata": {},
   "outputs": [],
   "source": [
    "# Loading the data\n",
    "df_search, search_term = DatasetReader(SEARCH_FILE).get_data()"
   ]
  },
  {
   "cell_type": "code",
   "execution_count": 14,
   "id": "47fe8a4d",
   "metadata": {},
   "outputs": [
    {
     "data": {
      "text/html": [
       "<div>\n",
       "<style scoped>\n",
       "    .dataframe tbody tr th:only-of-type {\n",
       "        vertical-align: middle;\n",
       "    }\n",
       "\n",
       "    .dataframe tbody tr th {\n",
       "        vertical-align: top;\n",
       "    }\n",
       "\n",
       "    .dataframe thead th {\n",
       "        text-align: right;\n",
       "    }\n",
       "</style>\n",
       "<table border=\"1\" class=\"dataframe\">\n",
       "  <thead>\n",
       "    <tr style=\"text-align: right;\">\n",
       "      <th></th>\n",
       "      <th>text</th>\n",
       "    </tr>\n",
       "  </thead>\n",
       "  <tbody>\n",
       "    <tr>\n",
       "      <th>0</th>\n",
       "      <td>Alice was beginning</td>\n",
       "    </tr>\n",
       "    <tr>\n",
       "      <th>1</th>\n",
       "      <td>to get very</td>\n",
       "    </tr>\n",
       "    <tr>\n",
       "      <th>2</th>\n",
       "      <td>tired of sitting</td>\n",
       "    </tr>\n",
       "    <tr>\n",
       "      <th>3</th>\n",
       "      <td>by her sister</td>\n",
       "    </tr>\n",
       "    <tr>\n",
       "      <th>4</th>\n",
       "      <td>on the bank</td>\n",
       "    </tr>\n",
       "    <tr>\n",
       "      <th>5</th>\n",
       "      <td>and of having</td>\n",
       "    </tr>\n",
       "    <tr>\n",
       "      <th>6</th>\n",
       "      <td>nothing to do</td>\n",
       "    </tr>\n",
       "  </tbody>\n",
       "</table>\n",
       "</div>"
      ],
      "text/plain": [
       "                  text\n",
       "0  Alice was beginning\n",
       "1          to get very\n",
       "2     tired of sitting\n",
       "3        by her sister\n",
       "4          on the bank\n",
       "5        and of having\n",
       "6        nothing to do"
      ]
     },
     "execution_count": 14,
     "metadata": {},
     "output_type": "execute_result"
    }
   ],
   "source": [
    "# Source dataset\n",
    "df_search"
   ]
  },
  {
   "cell_type": "code",
   "execution_count": 15,
   "id": "d8f2a851",
   "metadata": {},
   "outputs": [
    {
     "data": {
      "text/plain": [
       "'er'"
      ]
     },
     "execution_count": 15,
     "metadata": {},
     "output_type": "execute_result"
    }
   ],
   "source": [
    "# Search term\n",
    "search_term"
   ]
  },
  {
   "cell_type": "markdown",
   "id": "5245504f-9a19-42fe-a2e2-58901bdceee3",
   "metadata": {},
   "source": [
    "## 2. Textual Search\n",
    "\n",
    "Search the **Source text** for matches of the **Search term**, and output all the matches."
   ]
  },
  {
   "cell_type": "code",
   "execution_count": 16,
   "id": "0afd5811",
   "metadata": {},
   "outputs": [],
   "source": [
    "from src.features.textual_search import TextualSearch"
   ]
  },
  {
   "cell_type": "code",
   "execution_count": 17,
   "id": "6e2458b5-17ff-4995-af0b-561572f59d0f",
   "metadata": {},
   "outputs": [],
   "source": [
    "# Performing a search\n",
    "output_search = TextualSearch(df_search, search_term).search_term()"
   ]
  },
  {
   "cell_type": "code",
   "execution_count": 18,
   "id": "c5315858",
   "metadata": {},
   "outputs": [
    {
     "name": "stdout",
     "output_type": "stream",
     "text": [
      "[to get very]\n",
      "[by her sister]\n"
     ]
    }
   ],
   "source": [
    "# Output\n",
    "output_search = [print(\"[\" + ' '.join(out) + \"]\") for out in output_search]"
   ]
  },
  {
   "cell_type": "markdown",
   "id": "e4c4b215",
   "metadata": {},
   "source": [
    "## 3. Interactive Demo\n",
    "\n",
    "Search performed in real time.\n",
    "\n",
    "* **source**: One can add or remove new string lines.\n",
    "* **term**: One can change the search term in real time\n",
    "* **Output**: String lines that matches with the search term."
   ]
  },
  {
   "cell_type": "code",
   "execution_count": 19,
   "id": "95d41f96",
   "metadata": {},
   "outputs": [],
   "source": [
    "import utils\n",
    "from ipywidgets import interact, fixed, Textarea"
   ]
  },
  {
   "cell_type": "code",
   "execution_count": 20,
   "id": "ebed125b",
   "metadata": {},
   "outputs": [
    {
     "data": {
      "application/vnd.jupyter.widget-view+json": {
       "model_id": "a7c815e942e749d091989b86472c65cf",
       "version_major": 2,
       "version_minor": 0
      },
      "text/plain": [
       "interactive(children=(Textarea(value=\"['Alice was beginning', 'to get very', 'tired of sitting', 'by her siste…"
      ]
     },
     "metadata": {},
     "output_type": "display_data"
    }
   ],
   "source": [
    "SOURCE = Textarea(value=str(df_search.text.values.tolist()), layout={'width': '90%', 'height': '100px'})\n",
    "TERM = Textarea(value=search_term, layout={'width': '90%', 'height': '30px'})\n",
    "_interact = interact(utils.search_interactive, source=SOURCE, term=TERM)"
   ]
  }
 ],
 "metadata": {
  "kernelspec": {
   "display_name": "Python 3 (ipykernel)",
   "language": "python",
   "name": "python3"
  },
  "language_info": {
   "codemirror_mode": {
    "name": "ipython",
    "version": 3
   },
   "file_extension": ".py",
   "mimetype": "text/x-python",
   "name": "python",
   "nbconvert_exporter": "python",
   "pygments_lexer": "ipython3",
   "version": "3.8.10"
  }
 },
 "nbformat": 4,
 "nbformat_minor": 5
}
